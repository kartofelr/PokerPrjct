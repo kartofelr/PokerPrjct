{
 "cells": [
  {
   "cell_type": "code",
   "execution_count": 286,
   "metadata": {},
   "outputs": [
    {
     "data": {
      "text/html": [
       "<style>\n",
       "table {float:left}\n",
       "</style>"
      ],
      "text/plain": [
       "<IPython.core.display.HTML object>"
      ]
     },
     "metadata": {},
     "output_type": "display_data"
    }
   ],
   "source": [
    "%%html\n",
    "<style>\n",
    "table {float:left}\n",
    "</style>"
   ]
  },
  {
   "cell_type": "markdown",
   "metadata": {},
   "source": [
    "<center><img src=\"https://cdn3.iconfinder.com/data/icons/ballicons-reloaded-free/512/icon-82-512.png\" width=300></center>"
   ]
  },
  {
   "cell_type": "markdown",
   "metadata": {},
   "source": [
    "<center><h1>Final Project</h1></center>"
   ]
  },
  {
   "cell_type": "markdown",
   "metadata": {},
   "source": [
    "The aim of this project is to illustrate the phrase:\n",
    "\n",
    ">_Having an ace up your sleeve_\n",
    "\n",
    "And evaluate its viability"
   ]
  },
  {
   "cell_type": "markdown",
   "metadata": {},
   "source": [
    "## Importing required libraries"
   ]
  },
  {
   "cell_type": "markdown",
   "metadata": {},
   "source": [
    "- We will be needing `itertools` for the modified code of Diego Salinas\n",
    "- We will be needing `random` for choosing cards in the deck\n",
    "- `pyplot` for beautiful plots\n",
    "- And finally `time` to measure performance"
   ]
  },
  {
   "cell_type": "code",
   "execution_count": 287,
   "metadata": {},
   "outputs": [],
   "source": [
    "import itertools\n",
    "import random\n",
    "import matplotlib.pyplot as plt\n",
    "from time import time"
   ]
  },
  {
   "cell_type": "markdown",
   "metadata": {},
   "source": [
    "## Setting up the parameters"
   ]
  },
  {
   "cell_type": "markdown",
   "metadata": {},
   "source": [
    "Here are some things that we need to set before starting any of the code <br>\n",
    "-> the number of players, common cards and unique cards for each player"
   ]
  },
  {
   "cell_type": "code",
   "execution_count": 347,
   "metadata": {},
   "outputs": [],
   "source": [
    "NB_PLAYERS = 5\n",
    "NB_COMMON_CARDS = 3\n",
    "NB_CARDS = 2"
   ]
  },
  {
   "cell_type": "markdown",
   "metadata": {},
   "source": [
    "## Creating the deck of 52 cards\n",
    "\n",
    "Creates a list of four suits each containing 13 cards\n",
    "\n",
    "Cards will be represented as `H3` where `H` represents the suit (in this case hearts) and `3` represents the value\n",
    "\n",
    "| 2-10 | 11 | 12 | 13 | 14 \n",
    "|:-:|:-:|:-:|:-:|:-:\n",
    "| 2-10 | Jack | Queen | King | Ace "
   ]
  },
  {
   "cell_type": "code",
   "execution_count": 289,
   "metadata": {},
   "outputs": [],
   "source": [
    "def create_deck():   \n",
    "    deck = []\n",
    "    for i in range(2,15):\n",
    "        for s in ['H','S','C','D']:\n",
    "            card = s + str(i)\n",
    "            deck.append(card)\n",
    "    return deck"
   ]
  },
  {
   "cell_type": "markdown",
   "metadata": {},
   "source": [
    "### Test"
   ]
  },
  {
   "cell_type": "code",
   "execution_count": 290,
   "metadata": {},
   "outputs": [],
   "source": [
    "assert create_deck() == [\n",
    "    'H2', 'S2', 'C2', 'D2',\n",
    "    'H3', 'S3', 'C3', 'D3',\n",
    "    'H4', 'S4', 'C4', 'D4',\n",
    "    'H5', 'S5', 'C5', 'D5',\n",
    "    'H6', 'S6', 'C6', 'D6',\n",
    "    'H7', 'S7', 'C7', 'D7',\n",
    "    'H8', 'S8', 'C8', 'D8',\n",
    "    'H9', 'S9', 'C9', 'D9',\n",
    "    'H10', 'S10', 'C10', 'D10',\n",
    "    'H11', 'S11', 'C11', 'D11',\n",
    "    'H12', 'S12', 'C12', 'D12',\n",
    "    'H13', 'S13', 'C13', 'D13',\n",
    "    'H14', 'S14', 'C14', 'D14']"
   ]
  },
  {
   "cell_type": "markdown",
   "metadata": {},
   "source": [
    "## Initializing common cards"
   ]
  },
  {
   "cell_type": "markdown",
   "metadata": {},
   "source": [
    "Takes cards from the deck to form a list of [common cards](#definition)"
   ]
  },
  {
   "cell_type": "code",
   "execution_count": 291,
   "metadata": {},
   "outputs": [],
   "source": [
    "def initialize_common_cards(deck):\n",
    "    common_cards = []\n",
    "    \n",
    "    for _ in range(NB_COMMON_CARDS):\n",
    "        rnd = random.randint(0, len(deck) - 1)\n",
    "        common_cards.append(deck[rnd])\n",
    "        deck.pop(rnd)\n",
    "\n",
    "    return common_cards"
   ]
  },
  {
   "cell_type": "markdown",
   "metadata": {},
   "source": [
    "### Example"
   ]
  },
  {
   "cell_type": "code",
   "execution_count": 338,
   "metadata": {},
   "outputs": [
    {
     "data": {
      "text/plain": [
       "['C11', 'D7', 'S13']"
      ]
     },
     "execution_count": 338,
     "metadata": {},
     "output_type": "execute_result"
    }
   ],
   "source": [
    "initialize_common_cards(create_deck())"
   ]
  },
  {
   "cell_type": "markdown",
   "metadata": {},
   "source": [
    "## Giving out the cards to each player"
   ]
  },
  {
   "cell_type": "markdown",
   "metadata": {},
   "source": [
    "Gives out two cards to each player then adds the common cards to their game"
   ]
  },
  {
   "cell_type": "code",
   "execution_count": 293,
   "metadata": {},
   "outputs": [],
   "source": [
    "def give_out_hands(deck):\n",
    "    player_hands = []\n",
    "    for i in range (NB_PLAYERS):\n",
    "        player_hands.append([])\n",
    "\n",
    "    common_cards = initialize_common_cards(deck)\n",
    "\n",
    "    #gives out the cards to the players\n",
    "    for i in range(0, NB_PLAYERS):\n",
    "        for j in range(0, NB_CARDS):\n",
    "            rnd = random.randint(0, len(deck) - 1)\n",
    "            player_hands[i].append(deck[rnd])\n",
    "            deck.pop(rnd)\n",
    "        \n",
    "        # adds the common cards\n",
    "        player_hands[i].extend(common_cards)\n",
    "\n",
    "    return player_hands"
   ]
  },
  {
   "cell_type": "markdown",
   "metadata": {},
   "source": [
    "### Test"
   ]
  },
  {
   "cell_type": "code",
   "execution_count": 339,
   "metadata": {},
   "outputs": [
    {
     "data": {
      "text/plain": [
       "[['S13', 'H5', 'H11', 'S2', 'S3'],\n",
       " ['D5', 'C5', 'H11', 'S2', 'S3'],\n",
       " ['H13', 'D4', 'H11', 'S2', 'S3'],\n",
       " ['H4', 'C6', 'H11', 'S2', 'S3'],\n",
       " ['D14', 'S5', 'H11', 'S2', 'S3'],\n",
       " ['D13', 'H8', 'H11', 'S2', 'S3'],\n",
       " ['H3', 'D3', 'H11', 'S2', 'S3'],\n",
       " ['C2', 'C9', 'H11', 'S2', 'S3'],\n",
       " ['H10', 'S14', 'H11', 'S2', 'S3'],\n",
       " ['C8', 'H6', 'H11', 'S2', 'S3']]"
      ]
     },
     "execution_count": 339,
     "metadata": {},
     "output_type": "execute_result"
    }
   ],
   "source": [
    "give_out_hands(create_deck())"
   ]
  },
  {
   "cell_type": "markdown",
   "metadata": {},
   "source": [
    "## Counting score"
   ]
  },
  {
   "cell_type": "markdown",
   "metadata": {},
   "source": [
    "This part is very important for figuring out a winner <br>\n",
    "Unfortunately, it is not the main aim of our project and the code already exist <br>\n",
    "This is why we will be using parts of <b>Diego Salinas' code </b> available [here](https://towardsdatascience.com/poker-with-python-how-to-score-all-hands-in-texas-holdem-6fd750ef73d)<br>"
   ]
  },
  {
   "cell_type": "code",
   "execution_count": 311,
   "metadata": {},
   "outputs": [],
   "source": [
    "def combinations(arr, n):\n",
    "    arr = np.asarray(arr)\n",
    "    t = np.dtype([('', arr.dtype)]*n)\n",
    "    result = np.fromiter(itertools.combinations(arr, n), t)\n",
    "    return result.view(arr.dtype).reshape(-1, n)\n",
    "\n",
    "def check_four_of_a_kind(hand,letters,numbers,rnum,rlet):\n",
    "    for i in numbers:\n",
    "            if numbers.count(i) == 4:\n",
    "                four = i\n",
    "            elif numbers.count(i) == 1:\n",
    "                card = i\n",
    "    score = 105 + four + card/100\n",
    "    return score\n",
    "\n",
    "def check_full_house(hand,letters,numbers,rnum,rlet):\n",
    "    for i in numbers:\n",
    "        if numbers.count(i) == 3:\n",
    "            full = i\n",
    "        elif numbers.count(i) == 2:\n",
    "            p = i\n",
    "    score = 90 + full + p/100  \n",
    "    return score\n",
    "\n",
    "def check_three_of_a_kind(hand,letters,numbers,rnum,rlet):\n",
    "    cards = []\n",
    "    for i in numbers:\n",
    "        if numbers.count(i) == 3:\n",
    "            three = i\n",
    "        else: \n",
    "            cards.append(i)\n",
    "    score = 45 + three + max(cards) + min(cards)/1000\n",
    "    return score\n",
    "\n",
    "def check_two_pair(hand,letters,numbers,rnum,rlet):\n",
    "    pairs = []\n",
    "    cards = []\n",
    "    for i in numbers:\n",
    "        if numbers.count(i) == 2:\n",
    "            pairs.append(i)\n",
    "        elif numbers.count(i) == 1:\n",
    "            cards.append(i)\n",
    "            cards = sorted(cards,reverse=True)\n",
    "    score = 30 + max(pairs) + min(pairs)/100 + cards[0]/1000\n",
    "    return score\n",
    "\n",
    "def check_pair(hand,letters,numbers,rnum,rlet):    \n",
    "    pair = []\n",
    "    cards  = []\n",
    "    for i in numbers:\n",
    "        if numbers.count(i) == 2:\n",
    "            pair.append(i)\n",
    "        elif numbers.count(i) == 1:    \n",
    "            cards.append(i)\n",
    "            cards = sorted(cards,reverse=True)\n",
    "    score = 15 + pair[0] + cards[0]/100 + cards[1]/1000 + cards[2]/10000\n",
    "    return score\n",
    "\n",
    "def score_hand(hand):\n",
    "    letters = [hand[i][:1] for i in range(5)]\n",
    "    numbers = [int(hand[i][1:]) for i in range(5)] \n",
    "    rnum = [numbers.count(i) for i in numbers]  \n",
    "    rlet = [letters.count(i) for i in letters] \n",
    "    dif = max(numbers) - min(numbers) \n",
    "    handtype = ''\n",
    "    score = 0\n",
    "    if 5 in rlet:\n",
    "        if numbers ==[14,13,12,11,10]:\n",
    "            score = 135 \n",
    "        elif dif == 4 and max(rnum) == 1:\n",
    "            score = 120 + max(numbers)\n",
    "        elif 4 in rnum:\n",
    "            score = check_four_of_a_kind(hand,letters,numbers,rnum,rlet)\n",
    "        elif sorted(rnum) == [2,2,3,3,3]:\n",
    "            score = check_full_house(hand,letters,numbers,rnum,rlet)\n",
    "        elif 3 in rnum:\n",
    "            score = check_three_of_a_kind(hand,letters,numbers,rnum,rlet) \n",
    "        elif rnum.count(2) == 4:\n",
    "            score = check_two_pair(hand,letters,numbers,rnum,rlet)\n",
    "        elif rnum.count(2) == 2:\n",
    "            score = check_pair(hand,letters,numbers,rnum,rlet)\n",
    "        else:\n",
    "            score = 75 + max(numbers)/100\n",
    "    elif 4 in rnum:\n",
    "        score = check_four_of_a_kind(hand,letters,numbers,rnum,rlet)\n",
    "    elif sorted(rnum) == [2,2,3,3,3]:\n",
    "        score = check_full_house(hand,letters,numbers,rnum,rlet)\n",
    "    elif 3 in rnum:\n",
    "        score = check_three_of_a_kind(hand,letters,numbers,rnum,rlet)\n",
    "    elif rnum.count(2) == 4:\n",
    "        score = check_two_pair(hand,letters,numbers,rnum,rlet)\n",
    "    elif rnum.count(2) == 2:\n",
    "        score = check_pair(hand,letters,numbers,rnum,rlet)\n",
    "    elif dif == 4:\n",
    "        score = 65 + max(numbers)\n",
    "    else:\n",
    "        # handles high card\n",
    "        suited_numbers = []\n",
    "        for i in range(len(numbers)):\n",
    "            if letters[i] == \"S\":\n",
    "                suited_numbers.append(numbers[i] + 0.7)\n",
    "            elif letters[i] == \"H\":\n",
    "                suited_numbers.append(numbers[i] + 0.5)\n",
    "            elif letters[i] == \"D\":\n",
    "                suited_numbers.append(numbers[i] + 0.2)\n",
    "            else: suited_numbers.append(numbers[i])\n",
    "\n",
    "        n = sorted(suited_numbers, reverse=True)\n",
    "\n",
    "        score = n[0] + n[1]*1.0e-3 + n[2]*1.0e-6 + n[3]*1.0e-9 + n[4]*1.0e-12\n",
    "    return score"
   ]
  },
  {
   "cell_type": "markdown",
   "metadata": {},
   "source": [
    "## Score the hand of a player with $n$ cards\n",
    "\n",
    "Diego Salinas' code only allows us to score a hand with $5$ cards and we want to score $n$.\n",
    "\n",
    "We will use a recursive function to score the $n$ combinations of $n-1$ cards until $n=5$.\n",
    "\n",
    "We will also return the winning hand."
   ]
  },
  {
   "cell_type": "code",
   "execution_count": 312,
   "metadata": {},
   "outputs": [],
   "source": [
    "def score_any(player_hand):\n",
    "    if len(player_hand) == 5:\n",
    "        return score_hand(player_hand), player_hand\n",
    "\n",
    "    hand = player_hand[1:]\n",
    "    max_score, winning_combination = score_any(hand)\n",
    "\n",
    "    for i in range(len(player_hand) - 1):\n",
    "        hand.append(player_hand[i])\n",
    "        hand.pop(0)\n",
    "        score, best_hand = score_any(hand)\n",
    "        if score > max_score:\n",
    "            max_score = score\n",
    "            winning_combination = best_hand[:]\n",
    "\n",
    "    return max_score, winning_combination"
   ]
  },
  {
   "cell_type": "markdown",
   "metadata": {},
   "source": [
    "The main issue with this code is it's runtime, it requires $n!$ steps."
   ]
  },
  {
   "cell_type": "markdown",
   "metadata": {},
   "source": [
    "### Test"
   ]
  },
  {
   "cell_type": "markdown",
   "metadata": {},
   "source": [
    "Explanation"
   ]
  },
  {
   "cell_type": "code",
   "execution_count": 340,
   "metadata": {},
   "outputs": [],
   "source": [
    "complex_4 = [\"C3\", \"S2\", \"D2\", \"S14\",\"H2\", \"C2\", \"H12\"]\n",
    "easy_4    = [\"S2\", \"D2\", \"S14\",\"H2\", \"C2\"]\n",
    "\n",
    "assert score_any(easy_4) == score_any(complex_4)"
   ]
  },
  {
   "cell_type": "markdown",
   "metadata": {},
   "source": [
    "## Finding the winning player"
   ]
  },
  {
   "cell_type": "markdown",
   "metadata": {},
   "source": [
    "Takes a list of player hands in entry and outputs the index of the winner, if their is a draw returns `None`."
   ]
  },
  {
   "cell_type": "code",
   "execution_count": 314,
   "metadata": {},
   "outputs": [],
   "source": [
    "def who_won(player_hands):\n",
    "    winner_id, winner_hand = 0, player_hands[0]\n",
    "    winner_score, _ = score_any(player_hands[0])\n",
    "   \n",
    "    for i in range(1, NB_PLAYERS):\n",
    "        current_score, _ = score_any(player_hands[i])\n",
    "\n",
    "        # it's a draw\n",
    "        if current_score == winner_score:\n",
    "            return None \n",
    "\n",
    "        if current_score > winner_score:\n",
    "            winner_score, winner_id, winner_hand = current_score, i, player_hands[i]\n",
    "\n",
    "    return winner_id"
   ]
  },
  {
   "cell_type": "markdown",
   "metadata": {},
   "source": [
    "### Test"
   ]
  },
  {
   "cell_type": "code",
   "execution_count": 341,
   "metadata": {},
   "outputs": [
    {
     "data": {
      "text/plain": [
       "5"
      ]
     },
     "execution_count": 341,
     "metadata": {},
     "output_type": "execute_result"
    }
   ],
   "source": [
    "who_won(give_out_hands(create_deck()))"
   ]
  },
  {
   "cell_type": "markdown",
   "metadata": {},
   "source": [
    "## Score the hand of a player cheating and has an ace of spades up his sleeve"
   ]
  },
  {
   "cell_type": "markdown",
   "metadata": {},
   "source": [
    "We will be adding the `cheating_card` to the hand of the 1st player.\n",
    "\n",
    "If another player already has that card and `CHEATING_CARD` is used in the 1st player's final combination, the function will raise an `BustedException`."
   ]
  },
  {
   "cell_type": "code",
   "execution_count": 316,
   "metadata": {},
   "outputs": [],
   "source": [
    "class BustedException(Exception):\n",
    "    pass"
   ]
  },
  {
   "cell_type": "markdown",
   "metadata": {},
   "source": [
    "We are using the Ace of Spades as the cheating card."
   ]
  },
  {
   "cell_type": "code",
   "execution_count": 317,
   "metadata": {},
   "outputs": [],
   "source": [
    "cheating_card = \"S14\""
   ]
  },
  {
   "cell_type": "code",
   "execution_count": 318,
   "metadata": {},
   "outputs": [],
   "source": [
    "def cheat_score(player_hands, cheater=0):\n",
    "    cheater_hand = player_hands[0][:]\n",
    "\n",
    "    # only adds it if it is not already in his hand\n",
    "    if cheating_card not in player_hands[cheater] :\n",
    "        cheater_hand.append(cheating_card)\n",
    "                \n",
    "        score, winning_combination = score_any(cheater_hand)\n",
    "        \n",
    "        if cheating_card in winning_combination:\n",
    "            for index, hand in enumerate(player_hands):\n",
    "                if index != cheater and cheating_card in hand:\n",
    "                    raise BustedException\n",
    "    \n",
    "        return score, winning_combination\n",
    "    else:\n",
    "        return score_any(cheater_hand)"
   ]
  },
  {
   "cell_type": "code",
   "execution_count": 319,
   "metadata": {},
   "outputs": [],
   "source": [
    "def who_won_cheater(player_hands):\n",
    "    winner_id, winner_hand = 0, player_hands[0]\n",
    "    winner_score, _ = cheat_score(player_hands)\n",
    "\n",
    "    for i in range(1, NB_PLAYERS):\n",
    "        current_score, _ = score_any(player_hands[i])\n",
    "\n",
    "        # it's a draw\n",
    "        if current_score == winner_score:\n",
    "            return None \n",
    "\n",
    "        if current_score > winner_score:\n",
    "            winner_score, winner_id, winner_hand = current_score, i, player_hands[i]\n",
    "\n",
    "    return winner_id"
   ]
  },
  {
   "cell_type": "markdown",
   "metadata": {},
   "source": [
    "### Tests"
   ]
  },
  {
   "cell_type": "markdown",
   "metadata": {},
   "source": [
    "Testing Scoring"
   ]
  },
  {
   "cell_type": "code",
   "execution_count": 342,
   "metadata": {},
   "outputs": [],
   "source": [
    "hand       = [[\"S12\", \"H5\", \"C4\", \"H9\", \"D2\"]]\n",
    "cheat_hand = [\"S12\", \"H5\", \"C4\", \"H9\", \"D2\", cheating_card]\n",
    "\n",
    "assert cheat_score(hand) == score_any(cheat_hand)"
   ]
  },
  {
   "cell_type": "markdown",
   "metadata": {},
   "source": [
    "Testing when player already has "
   ]
  },
  {
   "cell_type": "code",
   "execution_count": 343,
   "metadata": {},
   "outputs": [],
   "source": [
    "hand = [cheating_card, \"D2\", \"C4\", \"H6\", \"D2\"]\n",
    "assert cheat_score([hand]) == score_any(hand)"
   ]
  },
  {
   "cell_type": "markdown",
   "metadata": {},
   "source": [
    "Testing Busted"
   ]
  },
  {
   "cell_type": "code",
   "execution_count": 344,
   "metadata": {},
   "outputs": [],
   "source": [
    "hands = [['S8', 'S3', 'S6', 'C13', 'S12']] + [['S8', 'S3', 'S6', 'C13', cheating_card] for _ in range(NB_PLAYERS - 1)]\n",
    "try:\n",
    "    who_won_cheater(hands)\n",
    "    assert False\n",
    "except BustedException:\n",
    "    pass\n",
    "except Exception as e:\n",
    "    raise e"
   ]
  },
  {
   "cell_type": "markdown",
   "metadata": {},
   "source": [
    "___"
   ]
  },
  {
   "cell_type": "markdown",
   "metadata": {},
   "source": [
    "# Data Analysis"
   ]
  },
  {
   "cell_type": "code",
   "execution_count": 350,
   "metadata": {},
   "outputs": [],
   "source": [
    "ITERATIONS = 50_000"
   ]
  },
  {
   "cell_type": "markdown",
   "metadata": {},
   "source": [
    "## Does every player really win the same amount of time ?"
   ]
  },
  {
   "cell_type": "code",
   "execution_count": 345,
   "metadata": {},
   "outputs": [
    {
     "data": {
      "image/png": "[encoded data removed]",
      "text/plain": [
       "<Figure size 432x288 with 1 Axes>"
      ]
     },
     "metadata": {},
     "output_type": "display_data"
    },
    {
     "name": "stdout",
     "output_type": "stream",
     "text": [
      "There were 2024 draws, with corresponds to a frequency of 4.0%\n",
      "Ran in 8.716 seconds\n"
     ]
    }
   ],
   "source": [
    "ts = time()\n",
    "\n",
    "sum_wins = [0 for _ in range(NB_PLAYERS)]\n",
    "draws = 0\n",
    "\n",
    "for i in range(0, ITERATIONS):\n",
    "    deck = create_deck()\n",
    "    player_hands = give_out_hands(deck)\n",
    "    winner = who_won(player_hands)\n",
    "    if winner is not None:\n",
    "        sum_wins[winner] += 1\n",
    "    else:\n",
    "        draws += 1\n",
    "\n",
    "fig = plt.figure()\n",
    "ax = fig.add_axes([0,0,1.5,1.5])\n",
    "players = [f'Player {i + 1}' for i in range(NB_PLAYERS)]\n",
    "ax.bar(players, sum_wins)\n",
    "ax.set_ylabel(\"Number of Wins\")\n",
    "ax.set_title(\"Number of Wins per Player\")\n",
    "plt.show()\n",
    "\n",
    "print(f'There were {draws} draws, with corresponds to a frequency of {round(draws / ITERATIONS, 3)*100}%')\n",
    "print('Ran in', round(time() - ts, 3), 'seconds')"
   ]
  },
  {
   "cell_type": "markdown",
   "metadata": {},
   "source": [
    "## Now if Player 1 is cheating .."
   ]
  },
  {
   "cell_type": "code",
   "execution_count": 346,
   "metadata": {},
   "outputs": [
    {
     "data": {
      "image/png": "[encoded data removed]",
      "text/plain": [
       "<Figure size 432x288 with 1 Axes>"
      ]
     },
     "metadata": {},
     "output_type": "display_data"
    },
    {
     "name": "stdout",
     "output_type": "stream",
     "text": [
      "There were 1214 draws, with corresponds to a frequency of 2.4%\n",
      "Player 1 was busted 13838 times, with corresponds to a frequency of 27.700000000000003%\n",
      "Ran in 10.061 seconds\n"
     ]
    }
   ],
   "source": [
    "ts = time()\n",
    "\n",
    "sum_wins = [0 for _ in range(NB_PLAYERS)]\n",
    "draws = 0\n",
    "busted = 0\n",
    "cheating_card = \"S14\"\n",
    "\n",
    "for i in range(0, ITERATIONS):\n",
    "    deck = create_deck()\n",
    "    player_hands = give_out_hands(deck)\n",
    "    try:\n",
    "        winner = who_won_cheater(player_hands)\n",
    "        if winner is not None:\n",
    "            sum_wins[winner] += 1\n",
    "        else:\n",
    "            draws += 1\n",
    "    except BustedException:\n",
    "        busted += 1\n",
    "\n",
    "fig = plt.figure()\n",
    "ax = fig.add_axes([0,0,1.5,1.5])\n",
    "players = [f'Player {i + 1}' for i in range(NB_PLAYERS)]\n",
    "ax.bar(players, sum_wins)\n",
    "ax.set_ylabel(\"Number of Wins\")\n",
    "ax.set_title(\"Number of Wins per Player\")\n",
    "plt.show()\n",
    "\n",
    "print(f'There were {draws} draws, with corresponds to a frequency of {round(draws / ITERATIONS, 3)*100}%')\n",
    "print(f'Player 1 was busted {busted} times, with corresponds to a frequency of {round(busted / ITERATIONS, 3)*100}%')\n",
    "print('Ran in', round(time() - ts, 3), 'seconds')"
   ]
  },
  {
   "cell_type": "markdown",
   "metadata": {},
   "source": [
    "## How _should_ we be cheating in poker"
   ]
  },
  {
   "cell_type": "code",
   "execution_count": 351,
   "metadata": {},
   "outputs": [
    {
     "data": {
      "image/png": "[encoded data removed]",
      "text/plain": [
       "<Figure size 432x288 with 1 Axes>"
      ]
     },
     "metadata": {},
     "output_type": "display_data"
    },
    {
     "name": "stdout",
     "output_type": "stream",
     "text": [
      "Ran in 100.468 seconds\n"
     ]
    }
   ],
   "source": [
    "ts = time()\n",
    "\n",
    "# We're only going to cheat with spades\n",
    "list_cheating_cards  = ['None']\n",
    "for i in range(2,15):\n",
    "    card = 'S'+ str(i)\n",
    "    list_cheating_cards.append(card)\n",
    "\n",
    "expected_freq = 1 / NB_PLAYERS * 100\n",
    "list_freq_win = [expected_freq]\n",
    "list_freq_busts = [0]\n",
    "\n",
    "for i in range (1,len(list_cheating_cards)) :\n",
    "    cheating_card = list_cheating_cards[i]\n",
    "    \n",
    "    sum_cheater_win = 0\n",
    "    draws = 0\n",
    "    busted = 0\n",
    "\n",
    "    for i in range(0, ITERATIONS):\n",
    "        deck = create_deck()\n",
    "        player_hands = give_out_hands(deck)\n",
    "        try:\n",
    "            winner = who_won_cheater(player_hands)\n",
    "            if winner is not None and winner == 0:\n",
    "                sum_cheater_win += 1\n",
    "        except BustedException:\n",
    "            busted += 1\n",
    "\n",
    "    freq_win = sum_cheater_win / ITERATIONS * 100\n",
    "    expected_freq = 1 / NB_PLAYERS * 100 \n",
    "    freq_busts = round(busted / ITERATIONS, 3)*100\n",
    "\n",
    "    \n",
    "    list_freq_win.append(freq_win)\n",
    "    list_freq_busts.append(freq_busts)\n",
    "\n",
    "barWidth = 0.3\n",
    "bars1 = list_freq_win\n",
    "bars2 = list_freq_busts\n",
    " \n",
    "r1 = range(len(bars1))\n",
    "r2 = [x + barWidth for x in r1]\n",
    "\n",
    "fig = plt.figure()\n",
    "ax = fig.add_axes([0,0,1.5,1.5])\n",
    "\n",
    "ax.bar(r1, bars1, width = barWidth, label = 'Win frequency')\n",
    "ax.bar(r2, bars2, width = barWidth, label = 'Bust frequency')\n",
    "ax.set_xticks([r + barWidth / 2 for r in range(len(bars1))])\n",
    "\n",
    "def map_fun(x):\n",
    "    if x == \"None\":\n",
    "        return x\n",
    "    else:\n",
    "        value = int(x[1:])\n",
    "        if value <= 10:\n",
    "            return value\n",
    "        elif value == 11:\n",
    "            return \"Jack\"\n",
    "        elif value == 12:\n",
    "            return \"Queen\"\n",
    "        elif value == 13:\n",
    "            return  \"King\"\n",
    "        else:\n",
    "            return \"Ace\"\n",
    "\n",
    "ax.set_xticklabels(map(map_fun, list_cheating_cards))\n",
    "\n",
    "ax.set_ylabel('frequency (%)')\n",
    "ax.set_xlabel('Cheating card Values')\n",
    "ax.set_title(f'Cheating results after {ITERATIONS} iterations')\n",
    "ax.legend()\n",
    "\n",
    "plt.show()\n",
    "\n",
    "print('Ran in', round(time() - ts, 3), 'seconds')"
   ]
  },
  {
   "cell_type": "markdown",
   "metadata": {},
   "source": [
    "# Conclusion\n",
    "\n",
    "This project was quite the journey and enlightened me about many of the ins and outs of the game of poker, specifically the Texas Hold'em variant. It is too bad that many decisions and assumptions had to be made in order to advance and reach an answer to our problem.\n",
    "\n",
    "However, we found many interesting results. So here are some observations that have struck me while trying to solve this problem :\n",
    "\n",
    "> **The better the card, the better the tradeoff**\n",
    ">\n",
    "> It's one of the first things you see on the graph above and yet is something that is not very easily spottable just like that. Of course, if you're just trying to get an edge without taking much risk, cheating with a $2$ is your best option since it gives the best win to not-bust ratio. Interestingly, the bust frequency seems to be concave while the win rate is convex. Given an infinite amount of cards cheating would be easy.\n",
    "\n",
    "> **It is very unreliable to _'have an ace up your sleeve'_**\n",
    ">\n",
    "> The simple truth is that no matter what card you take, you are most likely to be busted in less than 25 games.\n",
    "\n",
    "> The real takeway ? don't play too long : switch tables every few games"
   ]
  }
 ],
 "metadata": {
  "kernelspec": {
   "display_name": "Python 3",
   "language": "python",
   "name": "python3"
  },
  "language_info": {
   "codemirror_mode": {
    "name": "ipython",
    "version": 3
   },
   "file_extension": ".py",
   "mimetype": "text/x-python",
   "name": "python",
   "nbconvert_exporter": "python",
   "pygments_lexer": "ipython3",
   "version": "3.6.5"
  }
 },
 "nbformat": 4,
 "nbformat_minor": 2
}
